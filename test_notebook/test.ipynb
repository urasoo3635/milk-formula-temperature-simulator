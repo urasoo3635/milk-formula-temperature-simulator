{
 "cells": [
  {
   "cell_type": "code",
   "execution_count": null,
   "metadata": {},
   "outputs": [],
   "source": [
    "import sympy as sym\n",
    "import streamlit as st\n",
    "\n",
    "k, t = sym.symbols(\"k t\")\n",
    "milk_temperature = 70\n",
    "around_temperature = 30\n",
    "\n",
    "formula = (milk_temperature - around_temperature) * sym.exp(k * t) + around_temperature\n",
    "\n",
    "heat_transfer_coef = 4.3e2\n"
   ]
  },
  {
   "cell_type": "code",
   "execution_count": null,
   "metadata": {},
   "outputs": [],
   "source": [
    "formula.subs([(k, heat_transfer_coef), (t, 0)])\n"
   ]
  },
  {
   "cell_type": "code",
   "execution_count": null,
   "metadata": {},
   "outputs": [],
   "source": []
  }
 ],
 "metadata": {
  "language_info": {
   "name": "python"
  },
  "orig_nbformat": 4
 },
 "nbformat": 4,
 "nbformat_minor": 2
}
