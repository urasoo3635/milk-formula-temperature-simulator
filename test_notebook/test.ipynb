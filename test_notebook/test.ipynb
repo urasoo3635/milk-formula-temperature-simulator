{
 "cells": [
  {
   "cell_type": "code",
   "execution_count": 7,
   "metadata": {},
   "outputs": [],
   "source": [
    "import sympy as sym\n",
    "import streamlit as st\n",
    "import numpy as np\n",
    "import matplotlib.pyplot as plt\n",
    "\n",
    "k, t = sym.symbols(\"k t\")\n",
    "milk_temperature = 70\n",
    "around_temperature = 30\n",
    "# heat_transfer_coef = 6\n",
    "delta_temperature = milk_temperature - around_temperature\n",
    "bottle_h = 10 / 100\n",
    "bottle_r = 2.5 / 100\n",
    "surface_of_bottle = 2 * np.pi * bottle_r * (bottle_h + bottle_r) * 1\n",
    "water_quality = 140 / 1000\n",
    "bottle_quality = 30 / 1000\n",
    "houkeisan_garasu_sh = 1500\n",
    "water_sh = 4180\n",
    "shc = water_quality * water_sh + bottle_quality * houkeisan_garasu_sh\n",
    "\n",
    "# heat_transfer_coef = 2.51 * 0.55 * (delta_temperature / bottle_h)**(25/100)\n",
    "heat_transfer_coef = 1.2e3\n",
    "\n",
    "formula = (milk_temperature - around_temperature) * sym.exp(-heat_transfer_coef * surface_of_bottle / shc * t) + around_temperature\n",
    "\n",
    "\n"
   ]
  },
  {
   "cell_type": "code",
   "execution_count": 8,
   "metadata": {},
   "outputs": [
    {
     "data": {
      "text/latex": [
       "$\\displaystyle 30 + 40 e^{- 0.0373880433226332 t}$"
      ],
      "text/plain": [
       "30 + 40*exp(-0.0373880433226332*t)"
      ]
     },
     "execution_count": 8,
     "metadata": {},
     "output_type": "execute_result"
    }
   ],
   "source": [
    "formula"
   ]
  },
  {
   "cell_type": "code",
   "execution_count": 9,
   "metadata": {},
   "outputs": [
    {
     "data": {
      "text/plain": [
       "0"
      ]
     },
     "execution_count": 9,
     "metadata": {},
     "output_type": "execute_result"
    }
   ],
   "source": [
    "tmp = 1\n",
    "time_ = 0\n",
    "while tmp > around_temperature:\n",
    "    tmp = formula.subs([(t, time_)])\n",
    "    tmp = np.round(float(tmp), 1)\n",
    "    time_ += 1\n",
    "\n",
    "time_"
   ]
  },
  {
   "cell_type": "code",
   "execution_count": 17,
   "metadata": {},
   "outputs": [
    {
     "data": {
      "text/plain": [
       "array([40. , 38.5, 37.1, 35.8, 34.4, 33.2, 32. , 30.8, 29.7, 28.6, 27.5,\n",
       "       26.5, 25.5, 24.6, 23.7, 22.8, 22. , 21.2, 20.4, 19.7, 18.9, 18.2,\n",
       "       17.6, 16.9, 16.3, 15.7, 15.1, 14.6, 14. , 13.5, 13. , 12.6, 12.1,\n",
       "       11.6, 11.2, 10.8, 10.4, 10. ,  9.7,  9.3,  9. ,  8.6,  8.3,  8. ,\n",
       "        7.7,  7.4,  7.2,  6.9,  6.6,  6.4,  6.2,  5.9,  5.7,  5.5,  5.3,\n",
       "        5.1,  4.9,  4.7,  4.6,  4.4,  4.2,  4.1,  3.9,  3.8,  3.7,  3.5,\n",
       "        3.4,  3.3,  3.1,  3. ,  2.9,  2.8,  2.7,  2.6,  2.5,  2.4,  2.3,\n",
       "        2.2,  2.2,  2.1,  2. ,  1.9,  1.9,  1.8,  1.7,  1.7,  1.6,  1.5,\n",
       "        1.5,  1.4,  1.4,  1.3,  1.3,  1.2,  1.2,  1.1,  1.1,  1.1,  1. ,\n",
       "        1. ,  1. ,  0.9,  0.9,  0.9,  0.8,  0.8,  0.8,  0.7,  0.7,  0.7,\n",
       "        0.7,  0.6,  0.6,  0.6,  0.6,  0.5,  0.5,  0.5,  0.5,  0.5,  0.5,\n",
       "        0.4,  0.4,  0.4,  0.4,  0.4,  0.4,  0.3,  0.3,  0.3,  0.3,  0.3,\n",
       "        0.3,  0.3,  0.3,  0.3,  0.2,  0.2,  0.2,  0.2,  0.2,  0.2,  0.2,\n",
       "        0.2,  0.2,  0.2,  0.2,  0.2,  0.2,  0.2,  0.1,  0.1,  0.1,  0.1,\n",
       "        0.1,  0.1,  0.1,  0.1,  0.1,  0.1,  0.1,  0.1,  0.1,  0.1,  0.1,\n",
       "        0.1,  0.1,  0.1,  0.1,  0.1,  0.1,  0.1,  0.1,  0.1,  0.1,  0.1,\n",
       "        0.1,  0.1,  0.1,  0. ,  0. ,  0. ,  0. ,  0. ,  0. ,  0. ,  0. ,\n",
       "        0. ,  0. ,  0. ,  0. ,  0. ,  0. ,  0. ,  0. ,  0. ,  0. ,  0. ,\n",
       "        0. ,  0. ,  0. ,  0. ,  0. ,  0. ,  0. ,  0. ,  0. ,  0. ,  0. ,\n",
       "        0. ,  0. ,  0. ,  0. ,  0. ,  0. ,  0. ,  0. ,  0. ,  0. ,  0. ])"
      ]
     },
     "execution_count": 17,
     "metadata": {},
     "output_type": "execute_result"
    }
   ],
   "source": [
    "sec = np.array([x for x in np.arange(0.0, 220.0, 1)])\n",
    "y = np.array([np.round(float(formula.subs([(t, s)])), 1) for s in sec])\n",
    "\n",
    "y"
   ]
  },
  {
   "cell_type": "code",
   "execution_count": null,
   "metadata": {},
   "outputs": [],
   "source": [
    "formula.subs([(t, 10)])"
   ]
  },
  {
   "cell_type": "code",
   "execution_count": null,
   "metadata": {},
   "outputs": [],
   "source": [
    "np.round(float(y[1]), 1)"
   ]
  },
  {
   "cell_type": "code",
   "execution_count": null,
   "metadata": {},
   "outputs": [],
   "source": []
  }
 ],
 "metadata": {
  "kernelspec": {
   "display_name": "Python 3.8.9 ('.venv': pipenv)",
   "language": "python",
   "name": "python3"
  },
  "language_info": {
   "codemirror_mode": {
    "name": "ipython",
    "version": 3
   },
   "file_extension": ".py",
   "mimetype": "text/x-python",
   "name": "python",
   "nbconvert_exporter": "python",
   "pygments_lexer": "ipython3",
   "version": "3.8.9"
  },
  "orig_nbformat": 4,
  "vscode": {
   "interpreter": {
    "hash": "cebf4351e9febcb79ee73802e5feba921adbe2fe4b29098dc3a5e10560c5a473"
   }
  }
 },
 "nbformat": 4,
 "nbformat_minor": 2
}
